{
 "cells": [
  {
   "cell_type": "code",
   "execution_count": 11,
   "metadata": {},
   "outputs": [],
   "source": [
    "from pgmpy.models import BayesianNetwork as BayesianModel\n",
    "import pandas as pd"
   ]
  },
  {
   "cell_type": "code",
   "execution_count": 12,
   "metadata": {},
   "outputs": [],
   "source": [
    "model = BayesianModel()\n",
    "independent_vars = ['A','B']\n",
    "dependent_vars = ['C']\n",
    "model.add_nodes_from(independent_vars)\n",
    "for independent_var in independent_vars:\n",
    "    for dependent_var in dependent_vars:\n",
    "        model.add_edge(independent_var, dependent_var)"
   ]
  },
  {
   "cell_type": "code",
   "execution_count": 13,
   "metadata": {},
   "outputs": [
    {
     "name": "stdout",
     "output_type": "stream",
     "text": [
      "BayesianNetwork with 3 nodes and 2 edges\n"
     ]
    }
   ],
   "source": [
    "print(model)"
   ]
  },
  {
   "cell_type": "code",
   "execution_count": 14,
   "metadata": {},
   "outputs": [
    {
     "data": {
      "text/plain": [
       "[<TabularCPD representing P(A:2) at 0x18bc603c1f0>,\n",
       " <TabularCPD representing P(C:2 | A:2, B:2) at 0x18bc5fdeb80>,\n",
       " <TabularCPD representing P(B:2) at 0x18bc6286ca0>]"
      ]
     },
     "execution_count": 14,
     "metadata": {},
     "output_type": "execute_result"
    }
   ],
   "source": [
    "data = pd.DataFrame(data={'A': [0, 0, 1], 'B': [0, 1, 0], 'C': [1, 1, 0]})\n",
    "model = BayesianModel ([('A', 'C'), ('B', 'C')])\n",
    "model.fit(data)\n",
    "model.get_cpds()"
   ]
  },
  {
   "cell_type": "code",
   "execution_count": 1,
   "metadata": {},
   "outputs": [
    {
     "name": "stderr",
     "output_type": "stream",
     "text": [
      "c:\\Users\\Amy\\anaconda3\\envs\\ppandas-py38\\lib\\site-packages\\tqdm\\auto.py:21: TqdmWarning: IProgress not found. Please update jupyter and ipywidgets. See https://ipywidgets.readthedocs.io/en/stable/user_install.html\n",
      "  from .autonotebook import tqdm as notebook_tqdm\n",
      "WARNING:pgmpy:BayesianModel has been renamed to BayesianNetwork. Please use BayesianNetwork class, BayesianModel will be removed in future.\n",
      "WARNING:pgmpy:BayesianModel has been renamed to BayesianNetwork. Please use BayesianNetwork class, BayesianModel will be removed in future.\n",
      "WARNING:pgmpy:BayesianModel has been renamed to BayesianNetwork. Please use BayesianNetwork class, BayesianModel will be removed in future.\n"
     ]
    },
    {
     "name": "stdout",
     "output_type": "stream",
     "text": [
      "{'[20,40)': ['[20,40),[20,50)', '[20,40),[50,80)'], '[40,60)': ['[40,60),[20,50)', '[40,60),[50,80)'], '[60,80)': ['[60,80),[20,50)', '[60,80),[50,80)']}\n",
      "{'Age': ['[20,40),[20,50)', '[20,40),[50,80)', '[40,60),[20,50)', '[40,60),[50,80)', '[60,80),[20,50)', '[60,80),[50,80)']}\n",
      "{'[20,50)': ['[20,40),[20,50)', '[40,60),[20,50)', '[60,80),[20,50)'], '[50,80)': ['[20,40),[50,80)', '[40,60),[50,80)', '[60,80),[50,80)']}\n",
      "{'Age': ['[20,40),[20,50)', '[40,60),[20,50)', '[60,80),[20,50)', '[20,40),[50,80)', '[40,60),[50,80)', '[60,80),[50,80)']}\n"
     ]
    }
   ],
   "source": [
    "from ppandas import PDataFrame\n",
    "import pandas as pd \n",
    "\n",
    "df1 = pd.read_csv(\"tests/data/numerical-1.csv\")\n",
    "df2 = pd.read_csv(\"tests/data/numerical-2.csv\")\n",
    "\n",
    "pd1 = PDataFrame([\"Gender\", \"Age\"], df1)\n",
    "pd2 = PDataFrame([\"Gender\", \"Age\"], df2)\n",
    "\n",
    "# print(pd1.bayes_net.get_cpds(node = \"Gun Control\"))\n",
    "\n",
    "# print(pd1.independent_vars)\n",
    "pd_join = pd1.pjoin(pd2, mismatches={\"Age\": \"categorical\"})"
   ]
  },
  {
   "cell_type": "code",
   "execution_count": 2,
   "metadata": {},
   "outputs": [
    {
     "name": "stdout",
     "output_type": "stream",
     "text": [
      "The state names of Age doesn't match in it's child nodes.\n",
      "['[20,40),[20,50)', '[20,40),[50,80)', '[40,60),[20,50)', '[40,60),[50,80)', '[60,80),[20,50)', '[60,80),[50,80)']\n",
      "['[20,40),[20,50)', '[40,60),[20,50)', '[60,80),[20,50)', '[20,40),[50,80)', '[40,60),[50,80)', '[60,80),[50,80)']\n"
     ]
    }
   ],
   "source": [
    "model = pd_join.bayes_net\n",
    "for node in model.nodes():\n",
    "    cpd = model.get_cpds(node=node)\n",
    "    for index, node in enumerate(cpd.variables[1:]):\n",
    "        parent_cpd = model.get_cpds(node)\n",
    "        # Check if the evidence cardinality specified is same as parent's cardinality\n",
    "        if parent_cpd.cardinality[0] != cpd.cardinality[1 + index]:\n",
    "            print(\n",
    "                f\"The cardinality of {node} doesn't match in it's child nodes.\"\n",
    "            )\n",
    "        # Check if the state_names are the same in parent and child CPDs.\n",
    "        if parent_cpd.state_names[node] != cpd.state_names[node]:\n",
    "            print(\n",
    "                f\"The state names of {node} doesn't match in it's child nodes.\"\n",
    "            )\n",
    "            print(parent_cpd.state_names[node])\n",
    "            print(cpd.state_names[node])"
   ]
  }
 ],
 "metadata": {
  "kernelspec": {
   "display_name": "ppandas-py37",
   "language": "python",
   "name": "python3"
  },
  "language_info": {
   "codemirror_mode": {
    "name": "ipython",
    "version": 3
   },
   "file_extension": ".py",
   "mimetype": "text/x-python",
   "name": "python",
   "nbconvert_exporter": "python",
   "pygments_lexer": "ipython3",
   "version": "3.8.19"
  }
 },
 "nbformat": 4,
 "nbformat_minor": 2
}
