{
  "cells": [
    {
      "cell_type": "code",
      "execution_count": 92,
      "metadata": {
        "colab": {},
        "colab_type": "code",
        "id": "WYWHXjkIBwDp"
      },
      "outputs": [],
      "source": [
        "import sys\n",
        "import pandas as pd\n",
        "import numpy as np\n",
        "\n",
        "import os\n",
        "import sys\n",
        "module_path = os.path.abspath(os.path.join('..'))\n",
        "if module_path not in sys.path:\n",
        "    sys.path.append(module_path)\n",
        "\n",
        "from ppandas import PDataFrame"
      ]
    },
    {
      "cell_type": "markdown",
      "metadata": {
        "colab_type": "text",
        "id": "gFkF4ZUg3yWw"
      },
      "source": [
        "# Data Processing"
      ]
    },
    {
      "cell_type": "markdown",
      "metadata": {
        "colab_type": "text",
        "id": "fcqouV1a3YKa"
      },
      "source": [
        "### Toronto Election Study (TES)\n"
      ]
    },
    {
      "cell_type": "code",
      "execution_count": 93,
      "metadata": {
        "colab": {},
        "colab_type": "code",
        "id": "GbGJ466f3uJZ"
      },
      "outputs": [],
      "source": [
        "TES_df  = pd.read_stata('Toronto+Election+Study.dta')[['AGE','CPS5','CPS9']]\n",
        "\n",
        "# Age\n",
        "age_values = [17,23,28,33,38,43,48,53,58,63,114]\n",
        "TES_df['AGE'] = pd.cut(TES_df['AGE'],age_values)\n",
        "TES_df.astype({'AGE': str})\n",
        "\n",
        "# Ward\n",
        "TES_df.CPS5 = TES_df['CPS5'].str.replace(r\"[\\D]\",'', regex=True)\n",
        "TES_df.rename({'CPS5':'WARD44'},axis=1, inplace=True)\n",
        "TES_df = TES_df[TES_df['WARD44'] !='']\n",
        "\n",
        "# Candidate Vote - before election who they were leaning towards\n",
        "mapDict = {'Doug Ford':'Doug Ford', 'Olivia Chow':'Olivia Chow', 'John Tory':'John Tory', 'Other':'Other', \"Don't know or haven't decided\": 'Unknown'}\n",
        "TES_df.CPS9=TES_df.CPS9.map(mapDict)\n",
        "TES_df.rename({'CPS9':'VOTE'},axis=1, inplace=True)\n",
        "TES_df = TES_df[TES_df['VOTE'] !='Unknown']\n",
        "\n",
        "age_marginal_df = pd.read_csv('census2011_age.csv')\n",
        "ward_marginal_df = pd.read_csv('census2011_ward.csv', dtype={'WARD44': str})"
      ]
    },
    {
      "cell_type": "code",
      "execution_count": 94,
      "metadata": {},
      "outputs": [
        {
          "name": "stdout",
          "output_type": "stream",
          "text": [
            "          Unnamed: 1\n",
            "AGE                 \n",
            "[17,19]     0.042431\n",
            "[20,24]     0.085112\n",
            "[25,29]     0.098280\n",
            "[30,34]     0.093321\n",
            "[35,39]     0.088327\n",
            "[40,44]     0.091572\n",
            "[45,49]     0.096310\n",
            "[50,54]     0.088740\n",
            "[55,59]     0.075400\n",
            "[60,64]     0.065394\n",
            "[65,114]    0.175115\n",
            "        2011Census %\n",
            "WARD44              \n",
            "1           0.023447\n",
            "10          0.024791\n",
            "11          0.023856\n",
            "12          0.020651\n",
            "13          0.020370\n",
            "14          0.020560\n",
            "15          0.023728\n",
            "16          0.020644\n",
            "17          0.019315\n",
            "18          0.017196\n",
            "19          0.021888\n",
            "2           0.021691\n",
            "20          0.029292\n",
            "21          0.018600\n",
            "22          0.025053\n",
            "23          0.033817\n",
            "24          0.023844\n",
            "25          0.022299\n",
            "26          0.024821\n",
            "27          0.030083\n",
            "28          0.025462\n",
            "29          0.017183\n",
            "3           0.019973\n",
            "30          0.020378\n",
            "31          0.020485\n",
            "32          0.021936\n",
            "33          0.021854\n",
            "34          0.022726\n",
            "35          0.023879\n",
            "36          0.020693\n",
            "37          0.024605\n",
            "38          0.025556\n",
            "39          0.021022\n",
            "4           0.020894\n",
            "40          0.023720\n",
            "41          0.026058\n",
            "42          0.029703\n",
            "43          0.021081\n",
            "44          0.023036\n",
            "5           0.024479\n",
            "6           0.022559\n",
            "7           0.019917\n",
            "8           0.019250\n",
            "9           0.017606\n"
          ]
        }
      ],
      "source": [
        "age_marginal_pdf = PDataFrame.from_populational_data(independent_vars =[\"AGE\"],data = age_marginal_df, num_of_records=2615090)\n",
        "ward_marginal_pdf = PDataFrame.from_populational_data([\"WARD44\"],ward_marginal_df,2615090)"
      ]
    },
    {
      "cell_type": "code",
      "execution_count": 109,
      "metadata": {},
      "outputs": [
        {
          "name": "stdout",
          "output_type": "stream",
          "text": [
            "ppandas 2011 Census + TES(n = 5232093):\n",
            "          VOTE  Probability(VOTE)\n",
            "0    Doug Ford          28.685391\n",
            "1    John Tory          41.357111\n",
            "2  Olivia Chow          25.943569\n",
            "3        Other           4.013929\n",
            "TES(n = 1913)\n",
            "          VOTE  Probability(VOTE)\n",
            "0    Doug Ford          25.711200\n",
            "1    John Tory          47.705153\n",
            "2  Olivia Chow          24.173699\n",
            "3        Other           2.409948\n",
            "ppandas 2011 Census + TES(n = 5232093):\n",
            "          VOTE  Probability(VOTE)\n",
            "0    Doug Ford          28.524143\n",
            "1    John Tory          43.671837\n",
            "2  Olivia Chow          24.617854\n",
            "3        Other           3.186165\n",
            "TES(n = 1913)\n",
            "          VOTE  Probability(VOTE)\n",
            "0    Doug Ford          26.820373\n",
            "1    John Tory          49.811609\n",
            "2  Olivia Chow          21.495675\n",
            "3        Other           1.872342\n",
            "ppandas 2011 Census + TES(n = 5232093):\n",
            "          VOTE  Probability(VOTE)\n",
            "0    Doug Ford          29.327076\n",
            "1    John Tory          43.711778\n",
            "2  Olivia Chow          23.522745\n",
            "3        Other           3.438402\n",
            "TES(n = 1913)\n",
            "          VOTE  Probability(VOTE)\n",
            "0    Doug Ford          27.069127\n",
            "1    John Tory          48.879412\n",
            "2  Olivia Chow          22.068059\n",
            "3        Other           1.983402\n",
            "ppandas 2011 Census + TES(n = 5232093):\n",
            "          VOTE  Probability(VOTE)\n",
            "0    Doug Ford          29.053605\n",
            "1    John Tory          42.757572\n",
            "2  Olivia Chow          24.323511\n",
            "3        Other           3.865313\n",
            "TES(n = 1913)\n",
            "          VOTE  Probability(VOTE)\n",
            "0    Doug Ford          26.105397\n",
            "1    John Tory          48.620791\n",
            "2  Olivia Chow          23.114665\n",
            "3        Other           2.159147\n",
            "ppandas 2011 Census + TES(n = 5232093):\n",
            "          VOTE  Probability(VOTE)\n",
            "0    Doug Ford          28.832317\n",
            "1    John Tory          44.108837\n",
            "2  Olivia Chow          23.895275\n",
            "3        Other           3.163571\n",
            "TES(n = 1913)\n",
            "          VOTE  Probability(VOTE)\n",
            "0    Doug Ford          26.594740\n",
            "1    John Tory          48.945333\n",
            "2  Olivia Chow          22.521875\n",
            "3        Other           1.938052\n"
          ]
        }
      ],
      "source": [
        "queryResults_ppandas = []\n",
        "queryResults_TES = []\n",
        "for seed in range(5):\n",
        "    sample_pop = int(len(TES_df)*0.8)\n",
        "    TES_df_subsample = TES_df.sample(sample_pop, random_state=seed)\n",
        "    TES_pdf = PDataFrame(independent_vars = ['AGE','WARD44'], data =  TES_df_subsample)\n",
        "    join_pdf = age_marginal_pdf.pjoin(TES_pdf,mismatches={\"AGE\":'numerical'})\n",
        "    join_pdf = ward_marginal_pdf.pjoin(join_pdf)\n",
        "\n",
        "    print('ppandas 2011 Census + TES(n = {}):'.format(join_pdf.num_of_records))\n",
        "    queryResults= join_pdf.query(['VOTE'])\n",
        "    queryResults['Probability(VOTE)'] = queryResults['Probability(VOTE)']*100.0\n",
        "    queryResults_ppandas.append(queryResults)\n",
        "    print(queryResults)\n",
        "\n",
        "    print('TES(n = {})'.format(TES_pdf.num_of_records))\n",
        "    queryResults= TES_pdf.query(['VOTE'])\n",
        "    queryResults['Probability(VOTE)'] = queryResults['Probability(VOTE)']*100.0\n",
        "    queryResults_TES.append(queryResults)\n",
        "    print(queryResults)"
      ]
    },
    {
      "cell_type": "code",
      "execution_count": 110,
      "metadata": {},
      "outputs": [],
      "source": [
        "queryResults_ppandas = pd.concat(queryResults_ppandas)\n",
        "queryResults_TES = pd.concat(queryResults_TES)"
      ]
    },
    {
      "cell_type": "code",
      "execution_count": 127,
      "metadata": {},
      "outputs": [],
      "source": [
        "res_ppandas = queryResults_ppandas.groupby(['VOTE'])['Probability(VOTE)'].agg(['mean','std']).sort_values('mean',ascending=False)\n",
        "res_TES = queryResults_TES.groupby(['VOTE'])['Probability(VOTE)'].agg(['mean','std']).sort_values('mean',ascending=False)"
      ]
    },
    {
      "cell_type": "code",
      "execution_count": 132,
      "metadata": {},
      "outputs": [
        {
          "data": {
            "text/html": [
              "<div>\n",
              "<style scoped>\n",
              "    .dataframe tbody tr th:only-of-type {\n",
              "        vertical-align: middle;\n",
              "    }\n",
              "\n",
              "    .dataframe tbody tr th {\n",
              "        vertical-align: top;\n",
              "    }\n",
              "\n",
              "    .dataframe thead th {\n",
              "        text-align: right;\n",
              "    }\n",
              "</style>\n",
              "<table border=\"1\" class=\"dataframe\">\n",
              "  <thead>\n",
              "    <tr style=\"text-align: right;\">\n",
              "      <th></th>\n",
              "      <th>mean</th>\n",
              "      <th>std</th>\n",
              "      <th>error</th>\n",
              "    </tr>\n",
              "    <tr>\n",
              "      <th>VOTE</th>\n",
              "      <th></th>\n",
              "      <th></th>\n",
              "      <th></th>\n",
              "    </tr>\n",
              "  </thead>\n",
              "  <tbody>\n",
              "    <tr>\n",
              "      <th>John Tory</th>\n",
              "      <td>43.121427</td>\n",
              "      <td>1.103591</td>\n",
              "      <td>2.841427</td>\n",
              "    </tr>\n",
              "    <tr>\n",
              "      <th>Doug Ford</th>\n",
              "      <td>28.884506</td>\n",
              "      <td>0.314918</td>\n",
              "      <td>4.845494</td>\n",
              "    </tr>\n",
              "    <tr>\n",
              "      <th>Olivia Chow</th>\n",
              "      <td>24.460591</td>\n",
              "      <td>0.927616</td>\n",
              "      <td>1.310591</td>\n",
              "    </tr>\n",
              "    <tr>\n",
              "      <th>Other</th>\n",
              "      <td>3.533476</td>\n",
              "      <td>0.389694</td>\n",
              "      <td>0.693476</td>\n",
              "    </tr>\n",
              "  </tbody>\n",
              "</table>\n",
              "</div>"
            ],
            "text/plain": [
              "                  mean       std     error\n",
              "VOTE                                      \n",
              "John Tory    43.121427  1.103591  2.841427\n",
              "Doug Ford    28.884506  0.314918  4.845494\n",
              "Olivia Chow  24.460591  0.927616  1.310591\n",
              "Other         3.533476  0.389694  0.693476"
            ]
          },
          "execution_count": 132,
          "metadata": {},
          "output_type": "execute_result"
        }
      ],
      "source": [
        "actual_vote = pd.Series(data=[40.28, 33.73, 23.15, 2.84], index=['John Tory', 'Doug Ford', 'Olivia Chow', 'Other'])\n",
        "res_ppandas['error'] = np.abs(res_ppandas['mean'] - actual_vote)\n",
        "res_ppandas"
      ]
    },
    {
      "cell_type": "code",
      "execution_count": 133,
      "metadata": {},
      "outputs": [
        {
          "data": {
            "text/html": [
              "<div>\n",
              "<style scoped>\n",
              "    .dataframe tbody tr th:only-of-type {\n",
              "        vertical-align: middle;\n",
              "    }\n",
              "\n",
              "    .dataframe tbody tr th {\n",
              "        vertical-align: top;\n",
              "    }\n",
              "\n",
              "    .dataframe thead th {\n",
              "        text-align: right;\n",
              "    }\n",
              "</style>\n",
              "<table border=\"1\" class=\"dataframe\">\n",
              "  <thead>\n",
              "    <tr style=\"text-align: right;\">\n",
              "      <th></th>\n",
              "      <th>mean</th>\n",
              "      <th>std</th>\n",
              "      <th>error</th>\n",
              "    </tr>\n",
              "    <tr>\n",
              "      <th>VOTE</th>\n",
              "      <th></th>\n",
              "      <th></th>\n",
              "      <th></th>\n",
              "    </tr>\n",
              "  </thead>\n",
              "  <tbody>\n",
              "    <tr>\n",
              "      <th>John Tory</th>\n",
              "      <td>48.792460</td>\n",
              "      <td>0.755199</td>\n",
              "      <td>8.512460</td>\n",
              "    </tr>\n",
              "    <tr>\n",
              "      <th>Doug Ford</th>\n",
              "      <td>26.460167</td>\n",
              "      <td>0.548977</td>\n",
              "      <td>7.269833</td>\n",
              "    </tr>\n",
              "    <tr>\n",
              "      <th>Olivia Chow</th>\n",
              "      <td>22.674795</td>\n",
              "      <td>1.027380</td>\n",
              "      <td>0.475205</td>\n",
              "    </tr>\n",
              "    <tr>\n",
              "      <th>Other</th>\n",
              "      <td>2.072578</td>\n",
              "      <td>0.216481</td>\n",
              "      <td>0.767422</td>\n",
              "    </tr>\n",
              "  </tbody>\n",
              "</table>\n",
              "</div>"
            ],
            "text/plain": [
              "                  mean       std     error\n",
              "VOTE                                      \n",
              "John Tory    48.792460  0.755199  8.512460\n",
              "Doug Ford    26.460167  0.548977  7.269833\n",
              "Olivia Chow  22.674795  1.027380  0.475205\n",
              "Other         2.072578  0.216481  0.767422"
            ]
          },
          "execution_count": 133,
          "metadata": {},
          "output_type": "execute_result"
        }
      ],
      "source": [
        "res_TES['error'] = np.abs(res_TES['mean'] - actual_vote)\n",
        "res_TES"
      ]
    }
  ],
  "metadata": {
    "colab": {
      "collapsed_sections": [
        "gJ8wV6rCby2t"
      ],
      "name": "2014_Toronto_Mayoral_Election_CoLab.ipynb",
      "provenance": []
    },
    "kernelspec": {
      "display_name": "Python 3",
      "language": "python",
      "name": "python3"
    },
    "language_info": {
      "codemirror_mode": {
        "name": "ipython",
        "version": 3
      },
      "file_extension": ".py",
      "mimetype": "text/x-python",
      "name": "python",
      "nbconvert_exporter": "python",
      "pygments_lexer": "ipython3",
      "version": "3.8.19"
    }
  },
  "nbformat": 4,
  "nbformat_minor": 0
}
