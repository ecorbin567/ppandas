{
  "cells": [
    {
      "cell_type": "code",
      "execution_count": 3,
      "metadata": {
        "colab": {},
        "colab_type": "code",
        "id": "WYWHXjkIBwDp"
      },
      "outputs": [
        {
          "name": "stdout",
          "output_type": "stream",
          "text": [
            "e:\\Research\\ppandas\n"
          ]
        },
        {
          "name": "stderr",
          "output_type": "stream",
          "text": [
            "c:\\Users\\Amy\\anaconda3\\envs\\ppandas-py38\\lib\\site-packages\\tqdm\\auto.py:21: TqdmWarning: IProgress not found. Please update jupyter and ipywidgets. See https://ipywidgets.readthedocs.io/en/stable/user_install.html\n",
            "  from .autonotebook import tqdm as notebook_tqdm\n"
          ]
        }
      ],
      "source": [
        "import sys\n",
        "import pandas as pd\n",
        "import numpy as np\n",
        "\n",
        "import os\n",
        "import sys\n",
        "module_path = os.path.abspath(os.path.join('..'))\n",
        "print(module_path)\n",
        "if module_path not in sys.path:\n",
        "    sys.path.append(module_path)\n",
        "\n",
        "from ppandas import PDataFrame"
      ]
    },
    {
      "cell_type": "markdown",
      "metadata": {
        "colab_type": "text",
        "id": "gFkF4ZUg3yWw"
      },
      "source": [
        "# Data Processing"
      ]
    },
    {
      "cell_type": "markdown",
      "metadata": {
        "colab_type": "text",
        "id": "fcqouV1a3YKa"
      },
      "source": [
        "### Toronto Election Study (TES)\n"
      ]
    },
    {
      "cell_type": "markdown",
      "metadata": {
        "colab_type": "text",
        "id": "SRIQ776zbOMg"
      },
      "source": [
        "Create a DataFrame using the TES dataset columns of Age, Ward, and mayoral candidate preference. The TES dataset can be found [here](http://www.torontoelectionstudy.com/data)."
      ]
    },
    {
      "cell_type": "code",
      "execution_count": 4,
      "metadata": {
        "colab": {
          "base_uri": "https://localhost:8080/",
          "height": 204
        },
        "colab_type": "code",
        "id": "llYEAtRC26JM",
        "outputId": "4aa738ca-fd4e-4ba7-e20b-b509b285aae3"
      },
      "outputs": [
        {
          "data": {
            "text/html": [
              "<div>\n",
              "<style scoped>\n",
              "    .dataframe tbody tr th:only-of-type {\n",
              "        vertical-align: middle;\n",
              "    }\n",
              "\n",
              "    .dataframe tbody tr th {\n",
              "        vertical-align: top;\n",
              "    }\n",
              "\n",
              "    .dataframe thead th {\n",
              "        text-align: right;\n",
              "    }\n",
              "</style>\n",
              "<table border=\"1\" class=\"dataframe\">\n",
              "  <thead>\n",
              "    <tr style=\"text-align: right;\">\n",
              "      <th></th>\n",
              "      <th>AGE</th>\n",
              "      <th>CPS5</th>\n",
              "      <th>CPS9</th>\n",
              "    </tr>\n",
              "  </thead>\n",
              "  <tbody>\n",
              "    <tr>\n",
              "      <th>0</th>\n",
              "      <td>68.0</td>\n",
              "      <td>Ward 23 Willowdale (Current Councillor: John F...</td>\n",
              "      <td>John Tory</td>\n",
              "    </tr>\n",
              "    <tr>\n",
              "      <th>1</th>\n",
              "      <td>65.0</td>\n",
              "      <td>Ward 13 Parkdale-High Park (Current Councillor...</td>\n",
              "      <td>John Tory</td>\n",
              "    </tr>\n",
              "    <tr>\n",
              "      <th>2</th>\n",
              "      <td>65.0</td>\n",
              "      <td>Ward 35 Scarborough Southwest (Current Council...</td>\n",
              "      <td>Don't know or haven't decided</td>\n",
              "    </tr>\n",
              "    <tr>\n",
              "      <th>3</th>\n",
              "      <td>68.0</td>\n",
              "      <td>Ward 13 Parkdale-High Park (Current Councillor...</td>\n",
              "      <td>John Tory</td>\n",
              "    </tr>\n",
              "    <tr>\n",
              "      <th>4</th>\n",
              "      <td>49.0</td>\n",
              "      <td>Ward 9 York Centre (Current Councillor: Maria ...</td>\n",
              "      <td>Other</td>\n",
              "    </tr>\n",
              "  </tbody>\n",
              "</table>\n",
              "</div>"
            ],
            "text/plain": [
              "    AGE                                               CPS5  \\\n",
              "0  68.0  Ward 23 Willowdale (Current Councillor: John F...   \n",
              "1  65.0  Ward 13 Parkdale-High Park (Current Councillor...   \n",
              "2  65.0  Ward 35 Scarborough Southwest (Current Council...   \n",
              "3  68.0  Ward 13 Parkdale-High Park (Current Councillor...   \n",
              "4  49.0  Ward 9 York Centre (Current Councillor: Maria ...   \n",
              "\n",
              "                            CPS9  \n",
              "0                      John Tory  \n",
              "1                      John Tory  \n",
              "2  Don't know or haven't decided  \n",
              "3                      John Tory  \n",
              "4                          Other  "
            ]
          },
          "execution_count": 4,
          "metadata": {},
          "output_type": "execute_result"
        }
      ],
      "source": [
        "TES_df  = pd.read_stata('Toronto+Election+Study.dta')[['AGE','CPS5','CPS9']]\n",
        "TES_df.head()"
      ]
    },
    {
      "cell_type": "markdown",
      "metadata": {
        "colab_type": "text",
        "id": "xL3haR5-b6c8"
      },
      "source": [
        "There are 3000 respondents in the TES dataset"
      ]
    },
    {
      "cell_type": "code",
      "execution_count": 5,
      "metadata": {
        "colab": {
          "base_uri": "https://localhost:8080/",
          "height": 297
        },
        "colab_type": "code",
        "id": "DlXQfhe_AJ9W",
        "outputId": "70ce929d-5e90-4f1e-da04-1b146b14e118"
      },
      "outputs": [
        {
          "data": {
            "text/html": [
              "<div>\n",
              "<style scoped>\n",
              "    .dataframe tbody tr th:only-of-type {\n",
              "        vertical-align: middle;\n",
              "    }\n",
              "\n",
              "    .dataframe tbody tr th {\n",
              "        vertical-align: top;\n",
              "    }\n",
              "\n",
              "    .dataframe thead th {\n",
              "        text-align: right;\n",
              "    }\n",
              "</style>\n",
              "<table border=\"1\" class=\"dataframe\">\n",
              "  <thead>\n",
              "    <tr style=\"text-align: right;\">\n",
              "      <th></th>\n",
              "      <th>AGE</th>\n",
              "    </tr>\n",
              "  </thead>\n",
              "  <tbody>\n",
              "    <tr>\n",
              "      <th>count</th>\n",
              "      <td>3000.0000</td>\n",
              "    </tr>\n",
              "    <tr>\n",
              "      <th>mean</th>\n",
              "      <td>50.0060</td>\n",
              "    </tr>\n",
              "    <tr>\n",
              "      <th>std</th>\n",
              "      <td>15.4017</td>\n",
              "    </tr>\n",
              "    <tr>\n",
              "      <th>min</th>\n",
              "      <td>18.0000</td>\n",
              "    </tr>\n",
              "    <tr>\n",
              "      <th>25%</th>\n",
              "      <td>37.0000</td>\n",
              "    </tr>\n",
              "    <tr>\n",
              "      <th>50%</th>\n",
              "      <td>50.0000</td>\n",
              "    </tr>\n",
              "    <tr>\n",
              "      <th>75%</th>\n",
              "      <td>62.0000</td>\n",
              "    </tr>\n",
              "    <tr>\n",
              "      <th>max</th>\n",
              "      <td>114.0000</td>\n",
              "    </tr>\n",
              "  </tbody>\n",
              "</table>\n",
              "</div>"
            ],
            "text/plain": [
              "             AGE\n",
              "count  3000.0000\n",
              "mean     50.0060\n",
              "std      15.4017\n",
              "min      18.0000\n",
              "25%      37.0000\n",
              "50%      50.0000\n",
              "75%      62.0000\n",
              "max     114.0000"
            ]
          },
          "execution_count": 5,
          "metadata": {},
          "output_type": "execute_result"
        }
      ],
      "source": [
        "TES_df.describe()"
      ]
    },
    {
      "cell_type": "markdown",
      "metadata": {
        "colab_type": "text",
        "id": "A-Xmxyw8blAO"
      },
      "source": [
        "\n",
        "\n",
        "*   Convert the Age attribute into bins: (17,23], (23,28),...,(63,114]\n",
        "*   Rename DataFrame columns to and convert them to type string\n",
        "\n",
        "\n"
      ]
    },
    {
      "cell_type": "code",
      "execution_count": 6,
      "metadata": {
        "colab": {},
        "colab_type": "code",
        "id": "GbGJ466f3uJZ"
      },
      "outputs": [],
      "source": [
        "# Age\n",
        "age_values = [17,23,28,33,38,43,48,53,58,63,114]\n",
        "TES_df['AGE'] = pd.cut(TES_df['AGE'],age_values)\n",
        "TES_df.astype({'AGE': str})\n",
        "\n",
        "# Ward\n",
        "TES_df.CPS5 = TES_df['CPS5'].str.replace(r\"[\\D]\",'', regex=True)\n",
        "TES_df.rename({'CPS5':'WARD44'},axis=1, inplace=True)\n",
        "TES_df = TES_df[TES_df['WARD44'] !='']\n",
        "\n",
        "# Candidate Vote - before election who they were leaning towards\n",
        "mapDict = {'Doug Ford':'Doug Ford', 'Olivia Chow':'Olivia Chow', 'John Tory':'John Tory', 'Other':'Other', \"Don't know or haven't decided\": 'Unknown'}\n",
        "TES_df.CPS9=TES_df.CPS9.map(mapDict)\n",
        "TES_df.rename({'CPS9':'VOTE'},axis=1, inplace=True)\n",
        "TES_df = TES_df[TES_df['VOTE'] !='Unknown']"
      ]
    },
    {
      "cell_type": "markdown",
      "metadata": {
        "colab_type": "text",
        "id": "q79ZgOml4eld"
      },
      "source": [
        "### Census"
      ]
    },
    {
      "cell_type": "markdown",
      "metadata": {
        "colab_type": "text",
        "id": "L3MjwY1mh_-y"
      },
      "source": [
        "Create two dataframes that contain Toronto's census population breakdown by Age bin and by Ward. This data can be found [here](https://open.toronto.ca/dataset/ward-profiles-2014-2018-wards/)"
      ]
    },
    {
      "cell_type": "code",
      "execution_count": 7,
      "metadata": {
        "colab": {
          "base_uri": "https://localhost:8080/",
          "height": 986
        },
        "colab_type": "code",
        "id": "dLCaZvt04oiM",
        "outputId": "abbcee76-e982-41f6-a4a6-902d877bc79e"
      },
      "outputs": [
        {
          "name": "stdout",
          "output_type": "stream",
          "text": [
            "         AGE  Unnamed: 1\n",
            "0    [17,19]    0.042431\n",
            "1    [20,24]    0.085112\n",
            "2    [25,29]    0.098280\n",
            "3    [30,34]    0.093321\n",
            "4    [35,39]    0.088327\n",
            "5    [40,44]    0.091572\n",
            "6    [45,49]    0.096310\n",
            "7    [50,54]    0.088740\n",
            "8    [55,59]    0.075400\n",
            "9    [60,64]    0.065394\n",
            "10  [65,114]    0.175115\n",
            "   WARD44  2011Census %\n",
            "0       1      0.023447\n",
            "1       2      0.021691\n",
            "2       3      0.019973\n",
            "3       4      0.020894\n",
            "4       5      0.024479\n",
            "5       6      0.022559\n",
            "6       7      0.019917\n",
            "7       8      0.019250\n",
            "8       9      0.017606\n",
            "9      10      0.024791\n",
            "10     11      0.023856\n",
            "11     12      0.020651\n",
            "12     13      0.020370\n",
            "13     14      0.020560\n",
            "14     15      0.023728\n",
            "15     16      0.020644\n",
            "16     17      0.019315\n",
            "17     18      0.017196\n",
            "18     19      0.021888\n",
            "19     20      0.029292\n",
            "20     21      0.018600\n",
            "21     22      0.025053\n",
            "22     23      0.033817\n",
            "23     24      0.023844\n",
            "24     25      0.022299\n",
            "25     26      0.024821\n",
            "26     27      0.030083\n",
            "27     28      0.025462\n",
            "28     29      0.017183\n",
            "29     30      0.020378\n",
            "30     31      0.020485\n",
            "31     32      0.021936\n",
            "32     33      0.021854\n",
            "33     34      0.022726\n",
            "34     35      0.023879\n",
            "35     36      0.020693\n",
            "36     37      0.024605\n",
            "37     38      0.025556\n",
            "38     39      0.021022\n",
            "39     40      0.023720\n",
            "40     41      0.026058\n",
            "41     42      0.029703\n",
            "42     43      0.021081\n",
            "43     44      0.023036\n"
          ]
        }
      ],
      "source": [
        "age_marginal_df = pd.read_csv('census2011_age.csv')\n",
        "print(age_marginal_df)\n",
        "ward_marginal_df = pd.read_csv('census2011_ward.csv', dtype={'WARD44': str})\n",
        "print(ward_marginal_df)"
      ]
    },
    {
      "cell_type": "markdown",
      "metadata": {
        "colab_type": "text",
        "id": "_0yCd-NuBX6Z"
      },
      "source": [
        "# ppandas Analysis"
      ]
    },
    {
      "cell_type": "markdown",
      "metadata": {
        "colab_type": "text",
        "id": "wY723gSBm2SP"
      },
      "source": [
        "Create TES PDataFrame where independent nodes are Age and Ward and the dependent nodes are the ones not specified as independent nodes, which is Vote"
      ]
    },
    {
      "cell_type": "code",
      "execution_count": 8,
      "metadata": {
        "colab": {
          "base_uri": "https://localhost:8080/",
          "height": 1000
        },
        "colab_type": "code",
        "id": "aZAaTtyPCo5V",
        "outputId": "0addaf63-6d8a-4a2d-d9e7-6108b3e1f522"
      },
      "outputs": [],
      "source": [
        "TES_pdf = PDataFrame(independent_vars = ['AGE','WARD44'], data =  TES_df)\n",
        "# TES_pdf.visualise(show_tables=True)"
      ]
    },
    {
      "cell_type": "code",
      "execution_count": 9,
      "metadata": {},
      "outputs": [
        {
          "data": {
            "text/plain": [
              "[<TabularCPD representing P(AGE:10) at 0x1be2c6252b0>,\n",
              " <TabularCPD representing P(WARD44:44) at 0x1be2c614550>,\n",
              " <TabularCPD representing P(VOTE:4 | AGE:10, WARD44:44) at 0x1be2c614760>]"
            ]
          },
          "execution_count": 9,
          "metadata": {},
          "output_type": "execute_result"
        }
      ],
      "source": [
        "TES_pdf.bayes_net.get_cpds()"
      ]
    },
    {
      "cell_type": "code",
      "execution_count": 10,
      "metadata": {},
      "outputs": [
        {
          "name": "stdout",
          "output_type": "stream",
          "text": [
            "+----------------+-----------+\n",
            "| AGE((17, 23])  | 0.0183946 |\n",
            "+----------------+-----------+\n",
            "| AGE((23, 28])  | 0.0535117 |\n",
            "+----------------+-----------+\n",
            "| AGE((28, 33])  | 0.0890468 |\n",
            "+----------------+-----------+\n",
            "| AGE((33, 38])  | 0.0898829 |\n",
            "+----------------+-----------+\n",
            "| AGE((38, 43])  | 0.0794314 |\n",
            "+----------------+-----------+\n",
            "| AGE((43, 48])  | 0.0957358 |\n",
            "+----------------+-----------+\n",
            "| AGE((48, 53])  | 0.0961538 |\n",
            "+----------------+-----------+\n",
            "| AGE((53, 58])  | 0.116221  |\n",
            "+----------------+-----------+\n",
            "| AGE((58, 63])  | 0.117475  |\n",
            "+----------------+-----------+\n",
            "| AGE((63, 114]) | 0.244147  |\n",
            "+----------------+-----------+\n",
            "+------------+------------+\n",
            "| WARD44(1)  | 0.014214   |\n",
            "+------------+------------+\n",
            "| WARD44(10) | 0.0259197  |\n",
            "+------------+------------+\n",
            "| WARD44(11) | 0.0188127  |\n",
            "+------------+------------+\n",
            "| WARD44(12) | 0.00752508 |\n",
            "+------------+------------+\n",
            "| WARD44(13) | 0.0250836  |\n",
            "+------------+------------+\n",
            "| WARD44(14) | 0.0192308  |\n",
            "+------------+------------+\n",
            "| WARD44(15) | 0.0167224  |\n",
            "+------------+------------+\n",
            "| WARD44(16) | 0.0246656  |\n",
            "+------------+------------+\n",
            "| WARD44(17) | 0.00919732 |\n",
            "+------------+------------+\n",
            "| WARD44(18) | 0.0108696  |\n",
            "+------------+------------+\n",
            "| WARD44(19) | 0.0267559  |\n",
            "+------------+------------+\n",
            "| WARD44(2)  | 0.0334448  |\n",
            "+------------+------------+\n",
            "| WARD44(20) | 0.0284281  |\n",
            "+------------+------------+\n",
            "| WARD44(21) | 0.0158863  |\n",
            "+------------+------------+\n",
            "| WARD44(22) | 0.0263378  |\n",
            "+------------+------------+\n",
            "| WARD44(23) | 0.0451505  |\n",
            "+------------+------------+\n",
            "| WARD44(24) | 0.0334448  |\n",
            "+------------+------------+\n",
            "| WARD44(25) | 0.0175585  |\n",
            "+------------+------------+\n",
            "| WARD44(26) | 0.0259197  |\n",
            "+------------+------------+\n",
            "| WARD44(27) | 0.0430602  |\n",
            "+------------+------------+\n",
            "| WARD44(28) | 0.0380435  |\n",
            "+------------+------------+\n",
            "| WARD44(29) | 0.0200669  |\n",
            "+------------+------------+\n",
            "| WARD44(3)  | 0.0200669  |\n",
            "+------------+------------+\n",
            "| WARD44(30) | 0.027592   |\n",
            "+------------+------------+\n",
            "| WARD44(31) | 0.0163043  |\n",
            "+------------+------------+\n",
            "| WARD44(32) | 0.0250836  |\n",
            "+------------+------------+\n",
            "| WARD44(33) | 0.0196488  |\n",
            "+------------+------------+\n",
            "| WARD44(34) | 0.0213211  |\n",
            "+------------+------------+\n",
            "| WARD44(35) | 0.013796   |\n",
            "+------------+------------+\n",
            "| WARD44(36) | 0.014214   |\n",
            "+------------+------------+\n",
            "| WARD44(37) | 0.0225753  |\n",
            "+------------+------------+\n",
            "| WARD44(38) | 0.0225753  |\n",
            "+------------+------------+\n",
            "| WARD44(39) | 0.02801    |\n",
            "+------------+------------+\n",
            "| WARD44(4)  | 0.0183946  |\n",
            "+------------+------------+\n",
            "| WARD44(40) | 0.0334448  |\n",
            "+------------+------------+\n",
            "| WARD44(41) | 0.0188127  |\n",
            "+------------+------------+\n",
            "| WARD44(42) | 0.0221572  |\n",
            "+------------+------------+\n",
            "| WARD44(43) | 0.013796   |\n",
            "+------------+------------+\n",
            "| WARD44(44) | 0.0338629  |\n",
            "+------------+------------+\n",
            "| WARD44(5)  | 0.0296823  |\n",
            "+------------+------------+\n",
            "| WARD44(6)  | 0.0313545  |\n",
            "+------------+------------+\n",
            "| WARD44(7)  | 0.0125418  |\n",
            "+------------+------------+\n",
            "| WARD44(8)  | 0.014214   |\n",
            "+------------+------------+\n",
            "| WARD44(9)  | 0.014214   |\n",
            "+------------+------------+\n",
            "+-------------------+---------------+-----+----------------+----------------+\n",
            "| AGE               | AGE((17, 23]) | ... | AGE((63, 114]) | AGE((63, 114]) |\n",
            "+-------------------+---------------+-----+----------------+----------------+\n",
            "| WARD44            | WARD44(1)     | ... | WARD44(8)      | WARD44(9)      |\n",
            "+-------------------+---------------+-----+----------------+----------------+\n",
            "| VOTE(Doug Ford)   | 0.25          | ... | 0.25           | 0.0            |\n",
            "+-------------------+---------------+-----+----------------+----------------+\n",
            "| VOTE(John Tory)   | 0.25          | ... | 0.5            | 0.0            |\n",
            "+-------------------+---------------+-----+----------------+----------------+\n",
            "| VOTE(Olivia Chow) | 0.25          | ... | 0.25           | 1.0            |\n",
            "+-------------------+---------------+-----+----------------+----------------+\n",
            "| VOTE(Other)       | 0.25          | ... | 0.0            | 0.0            |\n",
            "+-------------------+---------------+-----+----------------+----------------+\n"
          ]
        }
      ],
      "source": [
        "print(TES_pdf.bayes_net.get_cpds('AGE'))\n",
        "print(TES_pdf.bayes_net.get_cpds('WARD44'))\n",
        "print(TES_pdf.bayes_net.get_cpds('VOTE'))"
      ]
    },
    {
      "cell_type": "markdown",
      "metadata": {
        "colab_type": "text",
        "id": "IYDB2VVBoQWp"
      },
      "source": [
        "Create PDataFrames using the Toronto Census Age and Ward DataFrames. Since these DataFrames are aggregate-level (each row is not an individual sample), use the \".from_populational_data\" method and provide the total number of participants in the census using the \"num_of_records\" argument."
      ]
    },
    {
      "cell_type": "code",
      "execution_count": 11,
      "metadata": {
        "colab": {
          "base_uri": "https://localhost:8080/",
          "height": 1000
        },
        "colab_type": "code",
        "id": "PmQ96rnUBabj",
        "outputId": "59817d6a-3454-4216-9549-f3fd6bff2bdf"
      },
      "outputs": [
        {
          "name": "stdout",
          "output_type": "stream",
          "text": [
            "          Unnamed: 1\n",
            "AGE                 \n",
            "[17,19]     0.042431\n",
            "[20,24]     0.085112\n",
            "[25,29]     0.098280\n",
            "[30,34]     0.093321\n",
            "[35,39]     0.088327\n",
            "[40,44]     0.091572\n",
            "[45,49]     0.096310\n",
            "[50,54]     0.088740\n",
            "[55,59]     0.075400\n",
            "[60,64]     0.065394\n",
            "[65,114]    0.175115\n"
          ]
        },
        {
          "data": {
            "image/png": "[encoded data removed]",
            "text/plain": [
              "<Figure size 640x480 with 1 Axes>"
            ]
          },
          "metadata": {},
          "output_type": "display_data"
        },
        {
          "name": "stdout",
          "output_type": "stream",
          "text": [
            "+---------------+-----------+\n",
            "| AGE([17,19])  | 0.0424309 |\n",
            "+---------------+-----------+\n",
            "| AGE([20,24])  | 0.0851118 |\n",
            "+---------------+-----------+\n",
            "| AGE([25,29])  | 0.0982798 |\n",
            "+---------------+-----------+\n",
            "| AGE([30,34])  | 0.0933208 |\n",
            "+---------------+-----------+\n",
            "| AGE([35,39])  | 0.0883268 |\n",
            "+---------------+-----------+\n",
            "| AGE([40,44])  | 0.0915718 |\n",
            "+---------------+-----------+\n",
            "| AGE([45,49])  | 0.0963098 |\n",
            "+---------------+-----------+\n",
            "| AGE([50,54])  | 0.0887398 |\n",
            "+---------------+-----------+\n",
            "| AGE([55,59])  | 0.0753998 |\n",
            "+---------------+-----------+\n",
            "| AGE([60,64])  | 0.0653939 |\n",
            "+---------------+-----------+\n",
            "| AGE([65,114]) | 0.175115  |\n",
            "+---------------+-----------+\n",
            "        2011Census %\n",
            "WARD44              \n",
            "1           0.023447\n",
            "10          0.024791\n",
            "11          0.023856\n",
            "12          0.020651\n",
            "13          0.020370\n",
            "14          0.020560\n",
            "15          0.023728\n",
            "16          0.020644\n",
            "17          0.019315\n",
            "18          0.017196\n",
            "19          0.021888\n",
            "2           0.021691\n",
            "20          0.029292\n",
            "21          0.018600\n",
            "22          0.025053\n",
            "23          0.033817\n",
            "24          0.023844\n",
            "25          0.022299\n",
            "26          0.024821\n",
            "27          0.030083\n",
            "28          0.025462\n",
            "29          0.017183\n",
            "3           0.019973\n",
            "30          0.020378\n",
            "31          0.020485\n",
            "32          0.021936\n",
            "33          0.021854\n",
            "34          0.022726\n",
            "35          0.023879\n",
            "36          0.020693\n",
            "37          0.024605\n",
            "38          0.025556\n",
            "39          0.021022\n",
            "4           0.020894\n",
            "40          0.023720\n",
            "41          0.026058\n",
            "42          0.029703\n",
            "43          0.021081\n",
            "44          0.023036\n",
            "5           0.024479\n",
            "6           0.022559\n",
            "7           0.019917\n",
            "8           0.019250\n",
            "9           0.017606\n"
          ]
        },
        {
          "data": {
            "image/png": "[encoded data removed]",
            "text/plain": [
              "<Figure size 640x480 with 1 Axes>"
            ]
          },
          "metadata": {},
          "output_type": "display_data"
        }
      ],
      "source": [
        "age_marginal_pdf = PDataFrame.from_populational_data(independent_vars =[\"AGE\"],data = age_marginal_df, num_of_records=2615090)\n",
        "age_marginal_pdf.visualise(show_tables=True)\n",
        "ward_marginal_pdf = PDataFrame.from_populational_data([\"WARD44\"],ward_marginal_df,2615090)\n",
        "ward_marginal_pdf.visualise()"
      ]
    },
    {
      "cell_type": "markdown",
      "metadata": {
        "colab_type": "text",
        "id": "M7fPhUNPp9cj"
      },
      "source": [
        "Replace TES marginal distributions of Age and Ward with census distributions by performing a two pjoins. \n",
        "\n",
        "The first pjoin uses \"age_marginal_pdf\" as the reference model for the independent variable Age. Since there is numerical mismatch between how TES represents Age and how the census represents Age ([17,19],[20,24],...,[65,114]) the \"mismatches\" argument is used where a dictionary is passed. The dictionary key is the name of the variable exhibiting mismatch and the value is the type of mismatch. To handle this numerical mismatch, a cross product between the two Age representations is computed. Therefore the resulting join_pdf has the census's marginal distribution for Age, the TES's marginal distribution for Ward and TES's conditional probability distribution P(Vote|Age, Ward).\n",
        "\n",
        "The second pjoin uses \"ward_marginal_pdf\" as the reference model for the independent variable Ward. Therefore the resulting join_pdf has the census's marginal distribution for Age and Ward and the TES's conditional probability distribution P(Vote|Age,Ward)."
      ]
    },
    {
      "cell_type": "code",
      "execution_count": 12,
      "metadata": {},
      "outputs": [
        {
          "name": "stdout",
          "output_type": "stream",
          "text": [
            "+---------------+-----------+\n",
            "| AGE([17,19])  | 0.0424309 |\n",
            "+---------------+-----------+\n",
            "| AGE([20,24])  | 0.0851118 |\n",
            "+---------------+-----------+\n",
            "| AGE([25,29])  | 0.0982798 |\n",
            "+---------------+-----------+\n",
            "| AGE([30,34])  | 0.0933208 |\n",
            "+---------------+-----------+\n",
            "| AGE([35,39])  | 0.0883268 |\n",
            "+---------------+-----------+\n",
            "| AGE([40,44])  | 0.0915718 |\n",
            "+---------------+-----------+\n",
            "| AGE([45,49])  | 0.0963098 |\n",
            "+---------------+-----------+\n",
            "| AGE([50,54])  | 0.0887398 |\n",
            "+---------------+-----------+\n",
            "| AGE([55,59])  | 0.0753998 |\n",
            "+---------------+-----------+\n",
            "| AGE([60,64])  | 0.0653939 |\n",
            "+---------------+-----------+\n",
            "| AGE([65,114]) | 0.175115  |\n",
            "+---------------+-----------+\n"
          ]
        }
      ],
      "source": [
        "print(age_marginal_pdf.bayes_net.get_cpds(node='AGE'))"
      ]
    },
    {
      "cell_type": "code",
      "execution_count": 13,
      "metadata": {},
      "outputs": [
        {
          "name": "stdout",
          "output_type": "stream",
          "text": [
            "+----------------+-----------+\n",
            "| AGE((17, 23])  | 0.0183946 |\n",
            "+----------------+-----------+\n",
            "| AGE((23, 28])  | 0.0535117 |\n",
            "+----------------+-----------+\n",
            "| AGE((28, 33])  | 0.0890468 |\n",
            "+----------------+-----------+\n",
            "| AGE((33, 38])  | 0.0898829 |\n",
            "+----------------+-----------+\n",
            "| AGE((38, 43])  | 0.0794314 |\n",
            "+----------------+-----------+\n",
            "| AGE((43, 48])  | 0.0957358 |\n",
            "+----------------+-----------+\n",
            "| AGE((48, 53])  | 0.0961538 |\n",
            "+----------------+-----------+\n",
            "| AGE((53, 58])  | 0.116221  |\n",
            "+----------------+-----------+\n",
            "| AGE((58, 63])  | 0.117475  |\n",
            "+----------------+-----------+\n",
            "| AGE((63, 114]) | 0.244147  |\n",
            "+----------------+-----------+\n"
          ]
        }
      ],
      "source": [
        "print(TES_pdf.bayes_net.get_cpds(node='AGE'))"
      ]
    },
    {
      "cell_type": "code",
      "execution_count": 14,
      "metadata": {
        "colab": {
          "base_uri": "https://localhost:8080/",
          "height": 1000
        },
        "colab_type": "code",
        "id": "cSoasIZlBk9j",
        "outputId": "8e52b5ec-c8c0-4439-ee7c-1758b4e0f047"
      },
      "outputs": [
        {
          "name": "stdout",
          "output_type": "stream",
          "text": [
            "+---------------+-----------+\n",
            "| AGE((17,19])  | 0.0424309 |\n",
            "+---------------+-----------+\n",
            "| AGE([20,23])  | 0.0638339 |\n",
            "+---------------+-----------+\n",
            "| AGE((23,24])  | 0.021278  |\n",
            "+---------------+-----------+\n",
            "| AGE([25,28])  | 0.0737099 |\n",
            "+---------------+-----------+\n",
            "| AGE((28,29])  | 0.02457   |\n",
            "+---------------+-----------+\n",
            "| AGE([30,33])  | 0.0699906 |\n",
            "+---------------+-----------+\n",
            "| AGE((33,34])  | 0.0233302 |\n",
            "+---------------+-----------+\n",
            "| AGE([35,38])  | 0.0662451 |\n",
            "+---------------+-----------+\n",
            "| AGE((38,39])  | 0.0220817 |\n",
            "+---------------+-----------+\n",
            "| AGE([40,43])  | 0.0686789 |\n",
            "+---------------+-----------+\n",
            "| AGE((43,44])  | 0.022893  |\n",
            "+---------------+-----------+\n",
            "| AGE([45,48])  | 0.0722324 |\n",
            "+---------------+-----------+\n",
            "| AGE((48,49])  | 0.0240775 |\n",
            "+---------------+-----------+\n",
            "| AGE([50,53])  | 0.0665549 |\n",
            "+---------------+-----------+\n",
            "| AGE((53,54])  | 0.022185  |\n",
            "+---------------+-----------+\n",
            "| AGE([55,58])  | 0.0565499 |\n",
            "+---------------+-----------+\n",
            "| AGE((58,59])  | 0.01885   |\n",
            "+---------------+-----------+\n",
            "| AGE([60,63])  | 0.0490454 |\n",
            "+---------------+-----------+\n",
            "| AGE((63,64])  | 0.0163485 |\n",
            "+---------------+-----------+\n",
            "| AGE([65,114]) | 0.175115  |\n",
            "+---------------+-----------+\n",
            "+------------+------------+\n",
            "| WARD44(1)  | 0.014214   |\n",
            "+------------+------------+\n",
            "| WARD44(10) | 0.0259197  |\n",
            "+------------+------------+\n",
            "| WARD44(11) | 0.0188127  |\n",
            "+------------+------------+\n",
            "| WARD44(12) | 0.00752508 |\n",
            "+------------+------------+\n",
            "| WARD44(13) | 0.0250836  |\n",
            "+------------+------------+\n",
            "| WARD44(14) | 0.0192308  |\n",
            "+------------+------------+\n",
            "| WARD44(15) | 0.0167224  |\n",
            "+------------+------------+\n",
            "| WARD44(16) | 0.0246656  |\n",
            "+------------+------------+\n",
            "| WARD44(17) | 0.00919732 |\n",
            "+------------+------------+\n",
            "| WARD44(18) | 0.0108696  |\n",
            "+------------+------------+\n",
            "| WARD44(19) | 0.0267559  |\n",
            "+------------+------------+\n",
            "| WARD44(2)  | 0.0334448  |\n",
            "+------------+------------+\n",
            "| WARD44(20) | 0.0284281  |\n",
            "+------------+------------+\n",
            "| WARD44(21) | 0.0158863  |\n",
            "+------------+------------+\n",
            "| WARD44(22) | 0.0263378  |\n",
            "+------------+------------+\n",
            "| WARD44(23) | 0.0451505  |\n",
            "+------------+------------+\n",
            "| WARD44(24) | 0.0334448  |\n",
            "+------------+------------+\n",
            "| WARD44(25) | 0.0175585  |\n",
            "+------------+------------+\n",
            "| WARD44(26) | 0.0259197  |\n",
            "+------------+------------+\n",
            "| WARD44(27) | 0.0430602  |\n",
            "+------------+------------+\n",
            "| WARD44(28) | 0.0380435  |\n",
            "+------------+------------+\n",
            "| WARD44(29) | 0.0200669  |\n",
            "+------------+------------+\n",
            "| WARD44(3)  | 0.0200669  |\n",
            "+------------+------------+\n",
            "| WARD44(30) | 0.027592   |\n",
            "+------------+------------+\n",
            "| WARD44(31) | 0.0163043  |\n",
            "+------------+------------+\n",
            "| WARD44(32) | 0.0250836  |\n",
            "+------------+------------+\n",
            "| WARD44(33) | 0.0196488  |\n",
            "+------------+------------+\n",
            "| WARD44(34) | 0.0213211  |\n",
            "+------------+------------+\n",
            "| WARD44(35) | 0.013796   |\n",
            "+------------+------------+\n",
            "| WARD44(36) | 0.014214   |\n",
            "+------------+------------+\n",
            "| WARD44(37) | 0.0225753  |\n",
            "+------------+------------+\n",
            "| WARD44(38) | 0.0225753  |\n",
            "+------------+------------+\n",
            "| WARD44(39) | 0.02801    |\n",
            "+------------+------------+\n",
            "| WARD44(4)  | 0.0183946  |\n",
            "+------------+------------+\n",
            "| WARD44(40) | 0.0334448  |\n",
            "+------------+------------+\n",
            "| WARD44(41) | 0.0188127  |\n",
            "+------------+------------+\n",
            "| WARD44(42) | 0.0221572  |\n",
            "+------------+------------+\n",
            "| WARD44(43) | 0.013796   |\n",
            "+------------+------------+\n",
            "| WARD44(44) | 0.0338629  |\n",
            "+------------+------------+\n",
            "| WARD44(5)  | 0.0296823  |\n",
            "+------------+------------+\n",
            "| WARD44(6)  | 0.0313545  |\n",
            "+------------+------------+\n",
            "| WARD44(7)  | 0.0125418  |\n",
            "+------------+------------+\n",
            "| WARD44(8)  | 0.014214   |\n",
            "+------------+------------+\n",
            "| WARD44(9)  | 0.014214   |\n",
            "+------------+------------+\n",
            "+-------------------+--------------+-----+---------------+---------------+\n",
            "| AGE               | AGE((17,19]) | ... | AGE([65,114]) | AGE([65,114]) |\n",
            "+-------------------+--------------+-----+---------------+---------------+\n",
            "| WARD44            | WARD44(1)    | ... | WARD44(8)     | WARD44(9)     |\n",
            "+-------------------+--------------+-----+---------------+---------------+\n",
            "| VOTE(Doug Ford)   | 0.25         | ... | 0.0           | 0.0           |\n",
            "+-------------------+--------------+-----+---------------+---------------+\n",
            "| VOTE(John Tory)   | 0.25         | ... | 0.0           | 0.0           |\n",
            "+-------------------+--------------+-----+---------------+---------------+\n",
            "| VOTE(Olivia Chow) | 0.25         | ... | 1.0           | 1.0           |\n",
            "+-------------------+--------------+-----+---------------+---------------+\n",
            "| VOTE(Other)       | 0.25         | ... | 0.0           | 0.0           |\n",
            "+-------------------+--------------+-----+---------------+---------------+\n"
          ]
        }
      ],
      "source": [
        "join_pdf = age_marginal_pdf.pjoin(TES_pdf,mismatches={\"AGE\":'numerical'})\n",
        "print(join_pdf.bayes_net.get_cpds(node='AGE'))\n",
        "print(join_pdf.bayes_net.get_cpds(node='WARD44'))\n",
        "print(join_pdf.bayes_net.get_cpds(node='VOTE'))"
      ]
    },
    {
      "cell_type": "code",
      "execution_count": 15,
      "metadata": {},
      "outputs": [
        {
          "data": {
            "text/plain": [
              "[<TabularCPD representing P(AGE:20) at 0x1be2c62b100>,\n",
              " <TabularCPD representing P(WARD44:44) at 0x1be2c641c40>,\n",
              " <TabularCPD representing P(VOTE:4 | AGE:20, WARD44:44) at 0x1be2c62bf10>]"
            ]
          },
          "execution_count": 15,
          "metadata": {},
          "output_type": "execute_result"
        }
      ],
      "source": [
        "join_pdf = ward_marginal_pdf.pjoin(join_pdf)\n",
        "# join_pdf.visualise(show_tables=True)\n",
        "join_pdf.bayes_net.get_cpds()"
      ]
    },
    {
      "cell_type": "code",
      "execution_count": 22,
      "metadata": {},
      "outputs": [],
      "source": [
        "join_pdf.bayes_net.get_cpds(node='VOTE').to_csv('tmp.csv')"
      ]
    },
    {
      "cell_type": "markdown",
      "metadata": {
        "colab_type": "text",
        "id": "flIlt1POtKXU"
      },
      "source": [
        "Perform Variable Elimination to query P(Vote)"
      ]
    },
    {
      "cell_type": "code",
      "execution_count": 17,
      "metadata": {
        "colab": {
          "base_uri": "https://localhost:8080/",
          "height": 119
        },
        "colab_type": "code",
        "id": "e4pErcToOVtQ",
        "outputId": "e15ac1f9-928f-45f3-c61d-52fae09b49f6"
      },
      "outputs": [
        {
          "name": "stdout",
          "output_type": "stream",
          "text": [
            "ppandas 2011 Census + TES(n = 5232572):\n",
            "          VOTE  Probability(VOTE)\n",
            "0    Doug Ford           0.287157\n",
            "1    John Tory           0.434925\n",
            "2  Olivia Chow           0.247064\n",
            "3        Other           0.030854\n"
          ]
        }
      ],
      "source": [
        "print('ppandas 2011 Census + TES(n = {}):'.format(join_pdf.num_of_records))\n",
        "queryResults= join_pdf.query(['VOTE'])\n",
        "print(queryResults)"
      ]
    }
  ],
  "metadata": {
    "colab": {
      "collapsed_sections": [
        "gJ8wV6rCby2t"
      ],
      "name": "2014_Toronto_Mayoral_Election_CoLab.ipynb",
      "provenance": []
    },
    "kernelspec": {
      "display_name": "Python 3",
      "language": "python",
      "name": "python3"
    },
    "language_info": {
      "codemirror_mode": {
        "name": "ipython",
        "version": 3
      },
      "file_extension": ".py",
      "mimetype": "text/x-python",
      "name": "python",
      "nbconvert_exporter": "python",
      "pygments_lexer": "ipython3",
      "version": "3.8.19"
    }
  },
  "nbformat": 4,
  "nbformat_minor": 0
}
